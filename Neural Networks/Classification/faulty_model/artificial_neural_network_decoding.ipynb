{
 "cells": [
  {
   "cell_type": "markdown",
   "metadata": {
    "colab_type": "text",
    "id": "lP6JLo1tGNBg"
   },
   "source": [
    "# Artificial Neural Network"
   ]
  },
  {
   "cell_type": "markdown",
   "metadata": {
    "colab_type": "text",
    "id": "gWZyYmS_UE_L"
   },
   "source": [
    "### Importing the libraries"
   ]
  },
  {
   "cell_type": "code",
   "execution_count": 46,
   "metadata": {
    "colab": {},
    "colab_type": "code",
    "id": "MxkJoQBkUIHC"
   },
   "outputs": [],
   "source": [
    "import numpy as np\n",
    "import pandas as pd\n",
    "import tensorflow as tf"
   ]
  },
  {
   "cell_type": "code",
   "execution_count": 47,
   "metadata": {
    "colab": {
     "base_uri": "https://localhost:8080/",
     "height": 35
    },
    "colab_type": "code",
    "id": "ZaTwK7ojXr2F",
    "outputId": "da82fa72-df99-48e9-8271-b10786e3b6cc"
   },
   "outputs": [
    {
     "data": {
      "application/vnd.google.colaboratory.intrinsic+json": {
       "type": "string"
      },
      "text/plain": [
       "'2.3.0'"
      ]
     },
     "execution_count": 47,
     "metadata": {
      "tags": []
     },
     "output_type": "execute_result"
    }
   ],
   "source": [
    "tf.__version__"
   ]
  },
  {
   "cell_type": "markdown",
   "metadata": {
    "colab_type": "text",
    "id": "cKWAkFVGUU0Z"
   },
   "source": [
    "### Importing the dataset"
   ]
  },
  {
   "cell_type": "code",
   "execution_count": 48,
   "metadata": {
    "colab": {},
    "colab_type": "code",
    "id": "MXUkhkMfU4wq"
   },
   "outputs": [],
   "source": [
    "dataset = pd.read_excel('Research data.xlsx')\n",
    "X = dataset.iloc[:, [-1]].values\n",
    "y = dataset.iloc[:, :-1].values"
   ]
  },
  {
   "cell_type": "code",
   "execution_count": 49,
   "metadata": {
    "colab": {
     "base_uri": "https://localhost:8080/",
     "height": 136
    },
    "colab_type": "code",
    "id": "VYP9cQTWbzuI",
    "outputId": "5768522a-24eb-447b-c0e1-de7d2444e3fd"
   },
   "outputs": [
    {
     "name": "stdout",
     "output_type": "stream",
     "text": [
      "[[ 66.193]\n",
      " [ 66.193]\n",
      " [ 66.193]\n",
      " ...\n",
      " [158.94 ]\n",
      " [159.03 ]\n",
      " [159.13 ]]\n"
     ]
    }
   ],
   "source": [
    "print(X)"
   ]
  },
  {
   "cell_type": "code",
   "execution_count": 50,
   "metadata": {
    "colab": {
     "base_uri": "https://localhost:8080/",
     "height": 136
    },
    "colab_type": "code",
    "id": "38vKGE6Nb2RR",
    "outputId": "cdb5be38-3d41-4f0e-9b29-b7dbdf678494"
   },
   "outputs": [
    {
     "name": "stdout",
     "output_type": "stream",
     "text": [
      "[[0 0 1 ... 0 0 0]\n",
      " [0 0 0 ... 0 0 1]\n",
      " [0 0 0 ... 0 0 0]\n",
      " ...\n",
      " [0 0 0 ... 0 0 0]\n",
      " [0 0 0 ... 0 0 0]\n",
      " [0 0 0 ... 0 0 0]]\n"
     ]
    }
   ],
   "source": [
    "print(y)"
   ]
  },
  {
   "cell_type": "markdown",
   "metadata": {
    "colab_type": "text",
    "id": "vHol938cW8zd"
   },
   "source": [
    "### Splitting the dataset into the Training set and Test set"
   ]
  },
  {
   "cell_type": "code",
   "execution_count": 51,
   "metadata": {
    "colab": {},
    "colab_type": "code",
    "id": "Z-TDt0Y_XEfc"
   },
   "outputs": [],
   "source": [
    "from sklearn.model_selection import train_test_split\n",
    "X_train, X_test, y_train, y_test = train_test_split(X, y, test_size = 0.2, random_state = 0)"
   ]
  },
  {
   "cell_type": "markdown",
   "metadata": {
    "colab_type": "text",
    "id": "RE_FcHyfV3TQ"
   },
   "source": [
    "### Feature Scaling"
   ]
  },
  {
   "cell_type": "code",
   "execution_count": 52,
   "metadata": {
    "colab": {},
    "colab_type": "code",
    "id": "ViCrE00rV8Sk"
   },
   "outputs": [],
   "source": [
    "from sklearn.preprocessing import StandardScaler\n",
    "sc = StandardScaler()\n",
    "X_train = sc.fit_transform(X_train)\n",
    "X_test = sc.transform(X_test)"
   ]
  },
  {
   "cell_type": "code",
   "execution_count": 53,
   "metadata": {
    "colab": {
     "base_uri": "https://localhost:8080/",
     "height": 136
    },
    "colab_type": "code",
    "id": "jWq1tRQFyRu4",
    "outputId": "f929db0b-78ea-4049-a2e1-e1bac4b4a7a4"
   },
   "outputs": [
    {
     "name": "stdout",
     "output_type": "stream",
     "text": [
      "[[-0.59859752]\n",
      " [ 1.38733508]\n",
      " [ 1.00663497]\n",
      " ...\n",
      " [-1.76989984]\n",
      " [-0.44162587]\n",
      " [ 0.7802757 ]]\n"
     ]
    }
   ],
   "source": [
    "print(X_train)\n"
   ]
  },
  {
   "cell_type": "code",
   "execution_count": 54,
   "metadata": {
    "colab": {
     "base_uri": "https://localhost:8080/",
     "height": 136
    },
    "colab_type": "code",
    "id": "nnibltnWyVXX",
    "outputId": "43952ddf-5ed6-412c-9e85-ff76d08cc898"
   },
   "outputs": [
    {
     "name": "stdout",
     "output_type": "stream",
     "text": [
      "[[-0.47911491]\n",
      " [-0.56056039]\n",
      " [-1.37592511]\n",
      " ...\n",
      " [-0.58851275]\n",
      " [-0.18588922]\n",
      " [-0.78955047]]\n"
     ]
    }
   ],
   "source": [
    "print(X_test)"
   ]
  },
  {
   "cell_type": "markdown",
   "metadata": {
    "colab_type": "text",
    "id": "-zfEzkRVXIwF"
   },
   "source": [
    "##  Building the ANN"
   ]
  },
  {
   "cell_type": "markdown",
   "metadata": {
    "colab_type": "text",
    "id": "KvdeScabXtlB"
   },
   "source": [
    "### Initializing the ANN"
   ]
  },
  {
   "cell_type": "code",
   "execution_count": 55,
   "metadata": {
    "colab": {},
    "colab_type": "code",
    "id": "3dtrScHxXQox"
   },
   "outputs": [],
   "source": [
    "ann = tf.keras.models.Sequential()"
   ]
  },
  {
   "cell_type": "markdown",
   "metadata": {
    "colab_type": "text",
    "id": "rP6urV6SX7kS"
   },
   "source": [
    "### Adding the input layer and the first hidden layer"
   ]
  },
  {
   "cell_type": "code",
   "execution_count": 56,
   "metadata": {
    "colab": {},
    "colab_type": "code",
    "id": "bppGycBXYCQr"
   },
   "outputs": [],
   "source": [
    "ann.add(tf.keras.layers.Dense(units=50, activation='relu'))"
   ]
  },
  {
   "cell_type": "markdown",
   "metadata": {
    "colab_type": "text",
    "id": "BELWAc_8YJze"
   },
   "source": [
    "### Adding the second hidden layer"
   ]
  },
  {
   "cell_type": "code",
   "execution_count": 57,
   "metadata": {
    "colab": {},
    "colab_type": "code",
    "id": "JneR0u0sYRTd"
   },
   "outputs": [],
   "source": [
    "ann.add(tf.keras.layers.Dense(units=64, activation='relu'))"
   ]
  },
  {
   "cell_type": "markdown",
   "metadata": {
    "colab_type": "text",
    "id": "OyNEe6RXYcU4"
   },
   "source": [
    "### Adding the output layer"
   ]
  },
  {
   "cell_type": "code",
   "execution_count": 58,
   "metadata": {
    "colab": {},
    "colab_type": "code",
    "id": "Cn3x41RBYfvY"
   },
   "outputs": [],
   "source": [
    "ann.add(tf.keras.layers.Dense(units=21, activation='sigmoid'))"
   ]
  },
  {
   "cell_type": "markdown",
   "metadata": {
    "colab_type": "text",
    "id": "JT4u2S1_Y4WG"
   },
   "source": [
    "## Training the ANN"
   ]
  },
  {
   "cell_type": "markdown",
   "metadata": {
    "colab_type": "text",
    "id": "8GWlJChhY_ZI"
   },
   "source": [
    "### Compiling the ANN"
   ]
  },
  {
   "cell_type": "code",
   "execution_count": 59,
   "metadata": {
    "colab": {},
    "colab_type": "code",
    "id": "fG3RrwDXZEaS"
   },
   "outputs": [],
   "source": [
    "ann.compile(optimizer = 'adam', loss = 'binary_crossentropy', metrics = ['accuracy'])"
   ]
  },
  {
   "cell_type": "markdown",
   "metadata": {
    "colab_type": "text",
    "id": "0QR_G5u7ZLSM"
   },
   "source": [
    "### Training the ANN on the Training set"
   ]
  },
  {
   "cell_type": "code",
   "execution_count": 60,
   "metadata": {
    "colab": {
     "base_uri": "https://localhost:8080/",
     "height": 1000
    },
    "colab_type": "code",
    "id": "nHZ-LKv_ZRb3",
    "outputId": "47ea743a-2aaf-4419-e72d-8a215c8b348f"
   },
   "outputs": [
    {
     "name": "stdout",
     "output_type": "stream",
     "text": [
      "Epoch 1/100\n",
      "18241/18241 [==============================] - 21s 1ms/step - loss: 0.0556 - accuracy: 0.0802\n",
      "Epoch 2/100\n",
      "18241/18241 [==============================] - 21s 1ms/step - loss: 0.0525 - accuracy: 0.0857\n",
      "Epoch 3/100\n",
      "18241/18241 [==============================] - 22s 1ms/step - loss: 0.0523 - accuracy: 0.0863\n",
      "Epoch 4/100\n",
      "18241/18241 [==============================] - 21s 1ms/step - loss: 0.0521 - accuracy: 0.0869\n",
      "Epoch 5/100\n",
      "18241/18241 [==============================] - 21s 1ms/step - loss: 0.0520 - accuracy: 0.0867\n",
      "Epoch 6/100\n",
      "18241/18241 [==============================] - 21s 1ms/step - loss: 0.0520 - accuracy: 0.0868\n",
      "Epoch 7/100\n",
      "18241/18241 [==============================] - 21s 1ms/step - loss: 0.0520 - accuracy: 0.0868\n",
      "Epoch 8/100\n",
      "18241/18241 [==============================] - 23s 1ms/step - loss: 0.0519 - accuracy: 0.0870\n",
      "Epoch 9/100\n",
      "18241/18241 [==============================] - 22s 1ms/step - loss: 0.0519 - accuracy: 0.0871\n",
      "Epoch 10/100\n",
      "18241/18241 [==============================] - 21s 1ms/step - loss: 0.0519 - accuracy: 0.0870\n",
      "Epoch 11/100\n",
      "18241/18241 [==============================] - 22s 1ms/step - loss: 0.0519 - accuracy: 0.0871\n",
      "Epoch 12/100\n",
      "18241/18241 [==============================] - 21s 1ms/step - loss: 0.0519 - accuracy: 0.0872\n",
      "Epoch 13/100\n",
      "18241/18241 [==============================] - 22s 1ms/step - loss: 0.0519 - accuracy: 0.0873\n",
      "Epoch 14/100\n",
      "18241/18241 [==============================] - 22s 1ms/step - loss: 0.0519 - accuracy: 0.0872\n",
      "Epoch 15/100\n",
      "18241/18241 [==============================] - 21s 1ms/step - loss: 0.0519 - accuracy: 0.0873\n",
      "Epoch 16/100\n",
      "18241/18241 [==============================] - 21s 1ms/step - loss: 0.0519 - accuracy: 0.0873\n",
      "Epoch 17/100\n",
      "18241/18241 [==============================] - 21s 1ms/step - loss: 0.0519 - accuracy: 0.0871\n",
      "Epoch 18/100\n",
      "18241/18241 [==============================] - 21s 1ms/step - loss: 0.0519 - accuracy: 0.0874\n",
      "Epoch 19/100\n",
      "18241/18241 [==============================] - 21s 1ms/step - loss: 0.0519 - accuracy: 0.0872\n",
      "Epoch 20/100\n",
      "18241/18241 [==============================] - 21s 1ms/step - loss: 0.0519 - accuracy: 0.0874\n",
      "Epoch 21/100\n",
      "18241/18241 [==============================] - 26s 1ms/step - loss: 0.0519 - accuracy: 0.0874\n",
      "Epoch 22/100\n",
      "18241/18241 [==============================] - 22s 1ms/step - loss: 0.0519 - accuracy: 0.0874\n",
      "Epoch 23/100\n",
      "18241/18241 [==============================] - 23s 1ms/step - loss: 0.0519 - accuracy: 0.0875\n",
      "Epoch 24/100\n",
      "18241/18241 [==============================] - 22s 1ms/step - loss: 0.0519 - accuracy: 0.0873\n",
      "Epoch 25/100\n",
      "18241/18241 [==============================] - 22s 1ms/step - loss: 0.0518 - accuracy: 0.0874\n",
      "Epoch 26/100\n",
      "18241/18241 [==============================] - 22s 1ms/step - loss: 0.0518 - accuracy: 0.0873\n",
      "Epoch 27/100\n",
      "18241/18241 [==============================] - 22s 1ms/step - loss: 0.0518 - accuracy: 0.0874\n",
      "Epoch 28/100\n",
      "18241/18241 [==============================] - 21s 1ms/step - loss: 0.0518 - accuracy: 0.0875\n",
      "Epoch 29/100\n",
      "18241/18241 [==============================] - 22s 1ms/step - loss: 0.0518 - accuracy: 0.0875\n",
      "Epoch 30/100\n",
      "18241/18241 [==============================] - 21s 1ms/step - loss: 0.0518 - accuracy: 0.0874\n",
      "Epoch 31/100\n",
      "18241/18241 [==============================] - 21s 1ms/step - loss: 0.0518 - accuracy: 0.0875\n",
      "Epoch 32/100\n",
      "18241/18241 [==============================] - 22s 1ms/step - loss: 0.0518 - accuracy: 0.0877\n",
      "Epoch 33/100\n",
      "18241/18241 [==============================] - 22s 1ms/step - loss: 0.0518 - accuracy: 0.0875\n",
      "Epoch 34/100\n",
      "18241/18241 [==============================] - 21s 1ms/step - loss: 0.0518 - accuracy: 0.0873\n",
      "Epoch 35/100\n",
      "18241/18241 [==============================] - 21s 1ms/step - loss: 0.0518 - accuracy: 0.0876\n",
      "Epoch 36/100\n",
      "18241/18241 [==============================] - 22s 1ms/step - loss: 0.0518 - accuracy: 0.0876\n",
      "Epoch 37/100\n",
      "18241/18241 [==============================] - 23s 1ms/step - loss: 0.0518 - accuracy: 0.0874\n",
      "Epoch 38/100\n",
      "18241/18241 [==============================] - 22s 1ms/step - loss: 0.0518 - accuracy: 0.0876\n",
      "Epoch 39/100\n",
      "18241/18241 [==============================] - 22s 1ms/step - loss: 0.0518 - accuracy: 0.0875\n",
      "Epoch 40/100\n",
      "18241/18241 [==============================] - 21s 1ms/step - loss: 0.0518 - accuracy: 0.0875\n",
      "Epoch 41/100\n",
      "18241/18241 [==============================] - 21s 1ms/step - loss: 0.0518 - accuracy: 0.0876\n",
      "Epoch 42/100\n",
      "18241/18241 [==============================] - 21s 1ms/step - loss: 0.0518 - accuracy: 0.0875\n",
      "Epoch 43/100\n",
      "18241/18241 [==============================] - 21s 1ms/step - loss: 0.0518 - accuracy: 0.0875\n",
      "Epoch 44/100\n",
      "18241/18241 [==============================] - 21s 1ms/step - loss: 0.0518 - accuracy: 0.0876\n",
      "Epoch 45/100\n",
      "18241/18241 [==============================] - 21s 1ms/step - loss: 0.0518 - accuracy: 0.0876\n",
      "Epoch 46/100\n",
      "18241/18241 [==============================] - 21s 1ms/step - loss: 0.0518 - accuracy: 0.0877\n",
      "Epoch 47/100\n",
      "18241/18241 [==============================] - 21s 1ms/step - loss: 0.0518 - accuracy: 0.0876\n",
      "Epoch 48/100\n",
      "18241/18241 [==============================] - 21s 1ms/step - loss: 0.0518 - accuracy: 0.0874\n",
      "Epoch 49/100\n",
      "18241/18241 [==============================] - 21s 1ms/step - loss: 0.0518 - accuracy: 0.0875\n",
      "Epoch 50/100\n",
      "18241/18241 [==============================] - 21s 1ms/step - loss: 0.0518 - accuracy: 0.0876\n",
      "Epoch 51/100\n",
      "18241/18241 [==============================] - 22s 1ms/step - loss: 0.0518 - accuracy: 0.0876\n",
      "Epoch 52/100\n",
      "18241/18241 [==============================] - 22s 1ms/step - loss: 0.0518 - accuracy: 0.0877\n",
      "Epoch 53/100\n",
      "18241/18241 [==============================] - 21s 1ms/step - loss: 0.0518 - accuracy: 0.0875\n",
      "Epoch 54/100\n",
      "18241/18241 [==============================] - 21s 1ms/step - loss: 0.0518 - accuracy: 0.0877\n",
      "Epoch 55/100\n",
      "18241/18241 [==============================] - 21s 1ms/step - loss: 0.0518 - accuracy: 0.0875\n",
      "Epoch 56/100\n",
      "18241/18241 [==============================] - 21s 1ms/step - loss: 0.0518 - accuracy: 0.0875\n",
      "Epoch 57/100\n",
      "18241/18241 [==============================] - 21s 1ms/step - loss: 0.0518 - accuracy: 0.0877\n",
      "Epoch 58/100\n",
      "18241/18241 [==============================] - 21s 1ms/step - loss: 0.0518 - accuracy: 0.0876\n",
      "Epoch 59/100\n",
      "18241/18241 [==============================] - 21s 1ms/step - loss: 0.0518 - accuracy: 0.0875\n",
      "Epoch 60/100\n",
      "18241/18241 [==============================] - 21s 1ms/step - loss: 0.0518 - accuracy: 0.0878\n",
      "Epoch 61/100\n",
      "18241/18241 [==============================] - 21s 1ms/step - loss: 0.0518 - accuracy: 0.0877\n",
      "Epoch 62/100\n",
      "18241/18241 [==============================] - 21s 1ms/step - loss: 0.0518 - accuracy: 0.0876\n",
      "Epoch 63/100\n",
      "18241/18241 [==============================] - 21s 1ms/step - loss: 0.0518 - accuracy: 0.0876\n",
      "Epoch 64/100\n",
      "18241/18241 [==============================] - 21s 1ms/step - loss: 0.0518 - accuracy: 0.0877\n",
      "Epoch 65/100\n",
      "18241/18241 [==============================] - 22s 1ms/step - loss: 0.0518 - accuracy: 0.0877\n",
      "Epoch 66/100\n",
      "18241/18241 [==============================] - 22s 1ms/step - loss: 0.0518 - accuracy: 0.0877\n",
      "Epoch 67/100\n",
      "18241/18241 [==============================] - 21s 1ms/step - loss: 0.0518 - accuracy: 0.0874\n",
      "Epoch 68/100\n",
      "18241/18241 [==============================] - 21s 1ms/step - loss: 0.0518 - accuracy: 0.0876\n",
      "Epoch 69/100\n",
      "18241/18241 [==============================] - 21s 1ms/step - loss: 0.0518 - accuracy: 0.0877\n",
      "Epoch 70/100\n",
      "18241/18241 [==============================] - 21s 1ms/step - loss: 0.0518 - accuracy: 0.0877\n",
      "Epoch 71/100\n",
      "18241/18241 [==============================] - 21s 1ms/step - loss: 0.0518 - accuracy: 0.0875\n",
      "Epoch 72/100\n",
      "18241/18241 [==============================] - 21s 1ms/step - loss: 0.0518 - accuracy: 0.0876\n",
      "Epoch 73/100\n",
      "18241/18241 [==============================] - 21s 1ms/step - loss: 0.0518 - accuracy: 0.0878\n",
      "Epoch 74/100\n",
      "18241/18241 [==============================] - 21s 1ms/step - loss: 0.0518 - accuracy: 0.0876\n",
      "Epoch 75/100\n",
      "18241/18241 [==============================] - 21s 1ms/step - loss: 0.0518 - accuracy: 0.0874\n",
      "Epoch 76/100\n",
      "18241/18241 [==============================] - 21s 1ms/step - loss: 0.0518 - accuracy: 0.0876\n",
      "Epoch 77/100\n",
      "18241/18241 [==============================] - 21s 1ms/step - loss: 0.0518 - accuracy: 0.0878\n",
      "Epoch 78/100\n",
      "18241/18241 [==============================] - 21s 1ms/step - loss: 0.0518 - accuracy: 0.0875\n",
      "Epoch 79/100\n",
      "18241/18241 [==============================] - 22s 1ms/step - loss: 0.0518 - accuracy: 0.0875\n",
      "Epoch 80/100\n",
      "18241/18241 [==============================] - 22s 1ms/step - loss: 0.0518 - accuracy: 0.0877\n",
      "Epoch 81/100\n",
      "18241/18241 [==============================] - 22s 1ms/step - loss: 0.0518 - accuracy: 0.0875\n",
      "Epoch 82/100\n",
      "18241/18241 [==============================] - 21s 1ms/step - loss: 0.0518 - accuracy: 0.0875\n",
      "Epoch 83/100\n",
      "18241/18241 [==============================] - 21s 1ms/step - loss: 0.0518 - accuracy: 0.0876\n",
      "Epoch 84/100\n",
      "18241/18241 [==============================] - 21s 1ms/step - loss: 0.0518 - accuracy: 0.0877\n",
      "Epoch 85/100\n",
      "18241/18241 [==============================] - 21s 1ms/step - loss: 0.0518 - accuracy: 0.0877\n",
      "Epoch 86/100\n",
      "18241/18241 [==============================] - 21s 1ms/step - loss: 0.0518 - accuracy: 0.0878\n",
      "Epoch 87/100\n",
      "18241/18241 [==============================] - 21s 1ms/step - loss: 0.0518 - accuracy: 0.0876\n",
      "Epoch 88/100\n",
      "18241/18241 [==============================] - 21s 1ms/step - loss: 0.0518 - accuracy: 0.0875\n",
      "Epoch 89/100\n",
      "18241/18241 [==============================] - 21s 1ms/step - loss: 0.0518 - accuracy: 0.0877\n",
      "Epoch 90/100\n",
      "18241/18241 [==============================] - 21s 1ms/step - loss: 0.0518 - accuracy: 0.0876\n",
      "Epoch 91/100\n",
      "18241/18241 [==============================] - 21s 1ms/step - loss: 0.0518 - accuracy: 0.0876\n",
      "Epoch 92/100\n",
      "18241/18241 [==============================] - 21s 1ms/step - loss: 0.0518 - accuracy: 0.0876\n",
      "Epoch 93/100\n",
      "18241/18241 [==============================] - 21s 1ms/step - loss: 0.0518 - accuracy: 0.0877\n",
      "Epoch 94/100\n",
      "18241/18241 [==============================] - 22s 1ms/step - loss: 0.0518 - accuracy: 0.0876\n",
      "Epoch 95/100\n",
      "18241/18241 [==============================] - 22s 1ms/step - loss: 0.0518 - accuracy: 0.0876\n",
      "Epoch 96/100\n",
      "18241/18241 [==============================] - 21s 1ms/step - loss: 0.0518 - accuracy: 0.0876\n",
      "Epoch 97/100\n",
      "18241/18241 [==============================] - 21s 1ms/step - loss: 0.0518 - accuracy: 0.0876\n",
      "Epoch 98/100\n",
      "18241/18241 [==============================] - 21s 1ms/step - loss: 0.0518 - accuracy: 0.0875\n",
      "Epoch 99/100\n",
      "18241/18241 [==============================] - 21s 1ms/step - loss: 0.0518 - accuracy: 0.0876\n",
      "Epoch 100/100\n",
      "18241/18241 [==============================] - 21s 1ms/step - loss: 0.0518 - accuracy: 0.0876\n"
     ]
    },
    {
     "data": {
      "text/plain": [
       "<tensorflow.python.keras.callbacks.History at 0x7fd17d71e710>"
      ]
     },
     "execution_count": 60,
     "metadata": {
      "tags": []
     },
     "output_type": "execute_result"
    }
   ],
   "source": [
    "ann.fit(X_train, y_train, batch_size = 32, epochs = 100)"
   ]
  },
  {
   "cell_type": "markdown",
   "metadata": {
    "colab_type": "text",
    "id": "tJj5k2MxZga3"
   },
   "source": [
    "## Making the predictions and evaluating the model"
   ]
  },
  {
   "cell_type": "markdown",
   "metadata": {
    "colab_type": "text",
    "id": "u7yx47jPZt11"
   },
   "source": [
    "### Predicting the Test set results"
   ]
  },
  {
   "cell_type": "code",
   "execution_count": 61,
   "metadata": {
    "colab": {},
    "colab_type": "code",
    "id": "nIyEeQdRZwgs"
   },
   "outputs": [],
   "source": [
    "y_pred = ann.predict(X_test)\n",
    "y_pred = (y_pred > 0.5)"
   ]
  },
  {
   "cell_type": "code",
   "execution_count": 62,
   "metadata": {
    "colab": {
     "base_uri": "https://localhost:8080/",
     "height": 187
    },
    "colab_type": "code",
    "id": "L9LWPgo3-4El",
    "outputId": "f13df6ef-45b2-468b-e8d2-512e6e55c777"
   },
   "outputs": [
    {
     "name": "stdout",
     "output_type": "stream",
     "text": [
      "[[0 0 0 0 0 0 0 0 0 0 0 0 0 0 0 0 0 0 0 0 0]\n",
      " [0 0 0 0 0 0 0 0 0 0 0 0 0 0 0 0 1 0 0 0 0]\n",
      " [0 0 0 0 0 0 0 0 0 0 0 0 0 0 0 0 0 0 0 0 0]\n",
      " [0 0 0 0 0 1 0 1 0 0 0 0 0 0 0 0 0 0 0 0 0]\n",
      " [0 0 0 0 0 0 0 0 0 0 0 0 0 0 0 0 0 0 0 0 0]\n",
      " [0 0 0 0 0 1 0 0 0 0 0 0 0 0 0 0 0 0 0 0 0]\n",
      " [0 0 0 0 0 0 0 0 0 0 0 0 0 0 0 0 0 0 0 0 0]\n",
      " [0 0 0 0 0 0 0 0 0 0 0 0 0 0 0 0 0 0 0 0 0]\n",
      " [0 0 0 0 0 0 0 0 0 0 0 0 0 0 0 0 0 0 0 0 0]\n",
      " [0 0 0 0 0 0 0 0 0 0 0 0 0 0 0 0 0 0 0 0 0]]\n"
     ]
    }
   ],
   "source": [
    "print(y_test[80000:80010])"
   ]
  },
  {
   "cell_type": "code",
   "execution_count": 63,
   "metadata": {
    "colab": {
     "base_uri": "https://localhost:8080/",
     "height": 187
    },
    "colab_type": "code",
    "id": "Y0hqZbKp-7Cu",
    "outputId": "7626ce4a-118a-4244-e4ec-a48441e20df9"
   },
   "outputs": [
    {
     "name": "stdout",
     "output_type": "stream",
     "text": [
      "[[0 0 0 0 0 0 0 0 0 0 0 0 0 0 0 0 0 0 0 0 0]\n",
      " [0 0 0 0 0 0 0 0 0 0 0 0 0 0 0 0 0 0 0 0 0]\n",
      " [0 0 0 0 0 0 0 0 0 0 0 0 0 0 0 0 0 0 0 0 0]\n",
      " [0 0 0 0 0 0 0 0 0 0 0 0 0 0 0 0 0 0 0 0 0]\n",
      " [0 0 0 0 0 0 0 0 0 0 0 0 0 0 0 0 0 0 0 0 0]\n",
      " [0 0 0 0 0 0 0 0 0 0 0 0 0 0 0 0 0 0 0 0 0]\n",
      " [0 0 0 0 0 0 0 0 0 0 0 0 0 0 0 0 0 0 0 0 0]\n",
      " [0 0 0 0 0 0 0 0 0 0 0 0 0 0 0 0 0 0 0 0 0]\n",
      " [0 0 0 0 0 0 0 0 0 0 0 0 0 0 0 0 0 0 0 0 0]\n",
      " [0 0 0 0 0 0 0 0 0 0 0 0 0 0 0 0 0 0 0 0 0]]\n"
     ]
    }
   ],
   "source": [
    "print(y_pred[100000:100010]*1)"
   ]
  },
  {
   "cell_type": "markdown",
   "metadata": {
    "colab_type": "text",
    "id": "o0oyfLWoaEGw"
   },
   "source": [
    "### Hamming Loss"
   ]
  },
  {
   "cell_type": "code",
   "execution_count": 64,
   "metadata": {
    "colab": {
     "base_uri": "https://localhost:8080/",
     "height": 34
    },
    "colab_type": "code",
    "id": "ci6K_r6LaF6P",
    "outputId": "d1b89c58-2376-49f1-b449-0681f05108ed"
   },
   "outputs": [
    {
     "data": {
      "text/plain": [
       "0.012573801577892665"
      ]
     },
     "execution_count": 64,
     "metadata": {
      "tags": []
     },
     "output_type": "execute_result"
    }
   ],
   "source": [
    "np.sum(np.not_equal(y_test, y_pred))/float(y_test.size)"
   ]
  },
  {
   "cell_type": "markdown",
   "metadata": {
    "colab_type": "text",
    "id": "WZFr4EsbLbYc"
   },
   "source": [
    "## Accuracy score and F1 score"
   ]
  },
  {
   "cell_type": "code",
   "execution_count": 65,
   "metadata": {
    "colab": {
     "base_uri": "https://localhost:8080/",
     "height": 34
    },
    "colab_type": "code",
    "id": "zvey5m4DLpRS",
    "outputId": "d186b744-2bb6-4b47-8b77-b91adc74414a"
   },
   "outputs": [
    {
     "data": {
      "text/plain": [
       "0.9874261984221073"
      ]
     },
     "execution_count": 65,
     "metadata": {
      "tags": []
     },
     "output_type": "execute_result"
    }
   ],
   "source": [
    "from sklearn.metrics import accuracy_score, f1_score\n",
    "accuracy_score(y_test.flatten(), y_pred.flatten())"
   ]
  },
  {
   "cell_type": "code",
   "execution_count": 66,
   "metadata": {
    "colab": {
     "base_uri": "https://localhost:8080/",
     "height": 34
    },
    "colab_type": "code",
    "id": "KZvjqddjMTUR",
    "outputId": "0d23d1ed-ed79-4c88-89b6-63059e940360"
   },
   "outputs": [
    {
     "data": {
      "text/plain": [
       "0.9811790728173279"
      ]
     },
     "execution_count": 66,
     "metadata": {
      "tags": []
     },
     "output_type": "execute_result"
    }
   ],
   "source": [
    "f1_score(y_test.flatten(), y_pred.flatten(), average = 'weighted')"
   ]
  },
  {
   "cell_type": "markdown",
   "metadata": {},
   "source": [
    "## Checking Geometric mean since the dataset is imbalanced"
   ]
  },
  {
   "cell_type": "code",
   "execution_count": 67,
   "metadata": {
    "colab": {
     "base_uri": "https://localhost:8080/",
     "height": 139
    },
    "colab_type": "code",
    "id": "JOt0oR4H6eII",
    "outputId": "b1c8672c-e336-42c9-ce66-a0a3a17bcb06"
   },
   "outputs": [
    {
     "name": "stdout",
     "output_type": "stream",
     "text": [
      "Requirement already up-to-date: imbalanced-learn in /usr/local/lib/python3.6/dist-packages (0.7.0)\n",
      "Requirement already satisfied, skipping upgrade: scipy>=0.19.1 in /usr/local/lib/python3.6/dist-packages (from imbalanced-learn) (1.4.1)\n",
      "Requirement already satisfied, skipping upgrade: joblib>=0.11 in /usr/local/lib/python3.6/dist-packages (from imbalanced-learn) (0.16.0)\n",
      "Requirement already satisfied, skipping upgrade: numpy>=1.13.3 in /usr/local/lib/python3.6/dist-packages (from imbalanced-learn) (1.18.5)\n",
      "Requirement already satisfied, skipping upgrade: scikit-learn>=0.23 in /usr/local/lib/python3.6/dist-packages (from imbalanced-learn) (0.23.2)\n",
      "Requirement already satisfied, skipping upgrade: threadpoolctl>=2.0.0 in /usr/local/lib/python3.6/dist-packages (from scikit-learn>=0.23->imbalanced-learn) (2.1.0)\n"
     ]
    }
   ],
   "source": [
    "pip install -U imbalanced-learn"
   ]
  },
  {
   "cell_type": "code",
   "execution_count": 69,
   "metadata": {
    "colab": {},
    "colab_type": "code",
    "id": "CCxGZgza7Jhh"
   },
   "outputs": [],
   "source": [
    "from imblearn.metrics import geometric_mean_score"
   ]
  },
  {
   "cell_type": "code",
   "execution_count": 71,
   "metadata": {
    "colab": {
     "base_uri": "https://localhost:8080/",
     "height": 34
    },
    "colab_type": "code",
    "id": "MC0lCMGN7SKe",
    "outputId": "b117aefb-333a-4864-f32d-9f7dc08bae79"
   },
   "outputs": [
    {
     "data": {
      "text/plain": [
       "0.0"
      ]
     },
     "execution_count": 71,
     "metadata": {
      "tags": []
     },
     "output_type": "execute_result"
    }
   ],
   "source": [
    "geometric_mean_score(y_test.flatten(), y_pred.flatten())"
   ]
  },
  {
   "cell_type": "code",
   "execution_count": 74,
   "metadata": {
    "colab": {
     "base_uri": "https://localhost:8080/",
     "height": 34
    },
    "colab_type": "code",
    "id": "_sezl5W87X9l",
    "outputId": "105569ca-2291-4276-f194-423cedf3be3a"
   },
   "outputs": [
    {
     "data": {
      "text/plain": [
       "0.4714045207910317"
      ]
     },
     "execution_count": 74,
     "metadata": {
      "tags": []
     },
     "output_type": "execute_result"
    }
   ],
   "source": [
    "geometric_mean_score(y_test.flatten(), y_pred.flatten(), average='macro')"
   ]
  },
  {
   "cell_type": "code",
   "execution_count": 76,
   "metadata": {
    "colab": {
     "base_uri": "https://localhost:8080/",
     "height": 34
    },
    "colab_type": "code",
    "id": "FhbSuCMm7bhR",
    "outputId": "7597df18-1072-4b4c-8f90-1868e842ed77"
   },
   "outputs": [
    {
     "data": {
      "text/plain": [
       "0.9905646611282987"
      ]
     },
     "execution_count": 76,
     "metadata": {
      "tags": []
     },
     "output_type": "execute_result"
    }
   ],
   "source": [
    "geometric_mean_score(y_test.flatten(), y_pred.flatten(), average='micro')"
   ]
  },
  {
   "cell_type": "code",
   "execution_count": 77,
   "metadata": {
    "colab": {
     "base_uri": "https://localhost:8080/",
     "height": 34
    },
    "colab_type": "code",
    "id": "xpwujQwf7emH",
    "outputId": "5968af81-6884-4409-e3b5-c3d145bceabe"
   },
   "outputs": [
    {
     "data": {
      "text/plain": [
       "0.11142576493689621"
      ]
     },
     "execution_count": 77,
     "metadata": {
      "tags": []
     },
     "output_type": "execute_result"
    }
   ],
   "source": [
    "geometric_mean_score(y_test.flatten(), y_pred.flatten(), average='weighted')"
   ]
  },
  {
   "cell_type": "code",
   "execution_count": 78,
   "metadata": {
    "colab": {
     "base_uri": "https://localhost:8080/",
     "height": 34
    },
    "colab_type": "code",
    "id": "kU1mXEkr7h5H",
    "outputId": "6deebace-7ff3-4e8d-86db-6718d3930aa8"
   },
   "outputs": [
    {
     "data": {
      "text/plain": [
       "array([0., 0., 0.])"
      ]
     },
     "execution_count": 78,
     "metadata": {
      "tags": []
     },
     "output_type": "execute_result"
    }
   ],
   "source": [
    "geometric_mean_score(y_test.flatten(), y_pred.flatten(), average=None)"
   ]
  }
 ],
 "metadata": {
  "colab": {
   "collapsed_sections": [],
   "name": "Copy of artificial_neural_network.ipynb",
   "provenance": [],
   "toc_visible": true
  },
  "kernelspec": {
   "display_name": "Python 3",
   "language": "python",
   "name": "python3"
  },
  "language_info": {
   "codemirror_mode": {
    "name": "ipython",
    "version": 3
   },
   "file_extension": ".py",
   "mimetype": "text/x-python",
   "name": "python",
   "nbconvert_exporter": "python",
   "pygments_lexer": "ipython3",
   "version": "3.7.4"
  }
 },
 "nbformat": 4,
 "nbformat_minor": 1
}
