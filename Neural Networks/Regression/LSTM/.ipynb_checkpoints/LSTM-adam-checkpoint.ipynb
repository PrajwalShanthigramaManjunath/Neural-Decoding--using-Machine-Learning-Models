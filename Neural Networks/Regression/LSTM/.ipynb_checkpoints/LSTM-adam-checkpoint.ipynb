{
 "cells": [
  {
   "cell_type": "markdown",
   "metadata": {
    "colab_type": "text",
    "id": "xpAuMVCwfWs8"
   },
   "source": [
    "# Recurrent Neural Network - LSTM(adam) For Regression"
   ]
  },
  {
   "cell_type": "markdown",
   "metadata": {
    "colab_type": "text",
    "id": "nxJfRe4bfYVA"
   },
   "source": [
    "## Part 1 - Data Preprocessing"
   ]
  },
  {
   "cell_type": "markdown",
   "metadata": {
    "colab_type": "text",
    "id": "ir9zwETrfbrp"
   },
   "source": [
    "### Importing the libraries"
   ]
  },
  {
   "cell_type": "code",
   "execution_count": null,
   "metadata": {
    "colab": {},
    "colab_type": "code",
    "id": "ZT1f24vHffuf"
   },
   "outputs": [],
   "source": [
    "import numpy as np\n",
    "import matplotlib.pyplot as plt\n",
    "import pandas as pd"
   ]
  },
  {
   "cell_type": "markdown",
   "metadata": {
    "colab_type": "text",
    "id": "nQ47JAxrgmaL"
   },
   "source": [
    "### Importing the training set"
   ]
  },
  {
   "cell_type": "code",
   "execution_count": null,
   "metadata": {
    "colab": {},
    "colab_type": "code",
    "id": "1xiv3pJOgqY3"
   },
   "outputs": [],
   "source": [
    "dataset = pd.read_excel('Research data.xlsx')\n",
    "X = dataset.iloc[:,:-1].values\n",
    "y= dataset.iloc[:, -1].values"
   ]
  },
  {
   "cell_type": "code",
   "execution_count": null,
   "metadata": {
    "colab": {
     "base_uri": "https://localhost:8080/",
     "height": 136
    },
    "colab_type": "code",
    "id": "I5nP8hRZSd4Z",
    "outputId": "35fd64dc-52fb-4112-a54b-1927c3a077de"
   },
   "outputs": [
    {
     "name": "stdout",
     "output_type": "stream",
     "text": [
      "[[0 0 1 ... 0 0 0]\n",
      " [0 0 0 ... 0 0 1]\n",
      " [0 0 0 ... 0 0 0]\n",
      " ...\n",
      " [0 0 0 ... 0 0 0]\n",
      " [0 0 0 ... 0 0 0]\n",
      " [0 0 0 ... 0 0 0]]\n"
     ]
    }
   ],
   "source": [
    "print(X)"
   ]
  },
  {
   "cell_type": "code",
   "execution_count": null,
   "metadata": {
    "colab": {
     "base_uri": "https://localhost:8080/",
     "height": 34
    },
    "colab_type": "code",
    "id": "YOYXj2TFSgKG",
    "outputId": "1cda1ee0-0a6b-4158-c43d-eec4c212a38e"
   },
   "outputs": [
    {
     "name": "stdout",
     "output_type": "stream",
     "text": [
      "[ 66.193  66.193  66.193 ... 158.94  159.03  159.13 ]\n"
     ]
    }
   ],
   "source": [
    "print(y)"
   ]
  },
  {
   "cell_type": "code",
   "execution_count": null,
   "metadata": {
    "colab": {},
    "colab_type": "code",
    "id": "QR4yZCdKwDcc"
   },
   "outputs": [],
   "source": [
    "from sklearn.model_selection import train_test_split\n",
    "X_train, X_test, y_train, y_test = train_test_split(X, y, test_size = 0.2, random_state = 0)"
   ]
  },
  {
   "cell_type": "code",
   "execution_count": null,
   "metadata": {
    "colab": {
     "base_uri": "https://localhost:8080/",
     "height": 136
    },
    "colab_type": "code",
    "id": "9HigZqxsQ6sK",
    "outputId": "d6cac974-da34-4dae-dfd3-6602aa1595cf"
   },
   "outputs": [
    {
     "name": "stdout",
     "output_type": "stream",
     "text": [
      "[[0 0 0 ... 0 0 0]\n",
      " [0 0 0 ... 0 0 0]\n",
      " [0 0 0 ... 0 0 0]\n",
      " ...\n",
      " [0 0 0 ... 0 0 0]\n",
      " [0 0 0 ... 0 0 0]\n",
      " [0 0 0 ... 0 0 0]]\n"
     ]
    }
   ],
   "source": [
    "print(X_train)"
   ]
  },
  {
   "cell_type": "code",
   "execution_count": null,
   "metadata": {
    "colab": {
     "base_uri": "https://localhost:8080/",
     "height": 34
    },
    "colab_type": "code",
    "id": "0jGHaEG8C4m1",
    "outputId": "8ad3f022-89b6-45f2-e145-bee8d263aeb0"
   },
   "outputs": [
    {
     "name": "stdout",
     "output_type": "stream",
     "text": [
      "[123.41  304.58  269.85  ...  16.556 137.73  249.2  ]\n"
     ]
    }
   ],
   "source": [
    "print(y_train)"
   ]
  },
  {
   "cell_type": "code",
   "execution_count": null,
   "metadata": {
    "colab": {
     "base_uri": "https://localhost:8080/",
     "height": 34
    },
    "colab_type": "code",
    "id": "SU74hw-QSHjy",
    "outputId": "183d67f3-974b-4a0b-fd2d-180170f6934c"
   },
   "outputs": [
    {
     "name": "stdout",
     "output_type": "stream",
     "text": [
      "(583706, 21)\n"
     ]
    }
   ],
   "source": [
    "print(X_train.shape)"
   ]
  },
  {
   "cell_type": "markdown",
   "metadata": {
    "colab_type": "text",
    "id": "D8yaN7Zvi95l"
   },
   "source": [
    "### Reshaping"
   ]
  },
  {
   "cell_type": "code",
   "execution_count": null,
   "metadata": {
    "colab": {},
    "colab_type": "code",
    "id": "ZeQG_9jHwjhL"
   },
   "outputs": [],
   "source": [
    "X_train = np.reshape(X_train, (X_train.shape[0], 1, 21))"
   ]
  },
  {
   "cell_type": "code",
   "execution_count": null,
   "metadata": {
    "colab": {
     "base_uri": "https://localhost:8080/",
     "height": 34
    },
    "colab_type": "code",
    "id": "PqmT0rJUwtq4",
    "outputId": "2e94b170-789e-4e2f-db75-6fa2b0e57298"
   },
   "outputs": [
    {
     "name": "stdout",
     "output_type": "stream",
     "text": [
      "(583706, 1, 21)\n"
     ]
    }
   ],
   "source": [
    "print(X_train.shape)"
   ]
  },
  {
   "cell_type": "markdown",
   "metadata": {
    "colab_type": "text",
    "id": "ZRRSOJeVjEWV"
   },
   "source": [
    "## Part 2 - Building and Training the RNN"
   ]
  },
  {
   "cell_type": "markdown",
   "metadata": {
    "colab_type": "text",
    "id": "k4XV88JMjHXG"
   },
   "source": [
    "### Importing the Keras libraries and packages"
   ]
  },
  {
   "cell_type": "code",
   "execution_count": null,
   "metadata": {
    "colab": {},
    "colab_type": "code",
    "id": "9JRnqsxEjKsD"
   },
   "outputs": [],
   "source": [
    "from keras.models import Sequential\n",
    "from keras.layers import Dense\n",
    "from keras.layers import LSTM\n",
    "from keras.layers import Dropout"
   ]
  },
  {
   "cell_type": "markdown",
   "metadata": {
    "colab_type": "text",
    "id": "FEIE-1s9jNzC"
   },
   "source": [
    "### Building and compiling LSTM"
   ]
  },
  {
   "cell_type": "code",
   "execution_count": null,
   "metadata": {
    "colab": {},
    "colab_type": "code",
    "id": "1338dJ0UjRKH"
   },
   "outputs": [],
   "source": [
    "regressor = Sequential()\n",
    "regressor.add(LSTM(units = 50, return_sequences = True, input_shape = (1, 21)))\n",
    "regressor.add(Dropout(0.2))\n",
    "regressor.add(LSTM(units = 50, return_sequences = True))\n",
    "regressor.add(Dropout(0.2))\n",
    "regressor.add(LSTM(units = 50, return_sequences = True))\n",
    "regressor.add(Dropout(0.2))\n",
    "regressor.add(LSTM(units = 50))\n",
    "regressor.add(Dropout(0.2))\n",
    "regressor.add(Dense(1, activation='relu'))"
   ]
  },
  {
   "cell_type": "markdown",
   "metadata": {
    "colab_type": "text",
    "id": "62eg1OPGjT8z"
   },
   "source": [
    "### Adding the first LSTM layer and some Dropout regularisation"
   ]
  },
  {
   "cell_type": "code",
   "execution_count": null,
   "metadata": {
    "colab": {},
    "colab_type": "code",
    "id": "2hIinyXUjbVU"
   },
   "outputs": [],
   "source": [
    "regressor.add(LSTM(units = 50, return_sequences = True, input_shape = (1, 21)))\n",
    "regressor.add(Dropout(0.2))"
   ]
  },
  {
   "cell_type": "markdown",
   "metadata": {
    "colab_type": "text",
    "id": "3XBIYLyOjlMx"
   },
   "source": [
    "### Adding a second LSTM layer and some Dropout regularisation"
   ]
  },
  {
   "cell_type": "code",
   "execution_count": null,
   "metadata": {
    "colab": {},
    "colab_type": "code",
    "id": "UG7nrVaSjuZ2"
   },
   "outputs": [],
   "source": [
    "regressor.add(LSTM(units = 50, return_sequences = True))\n",
    "regressor.add(Dropout(0.2))"
   ]
  },
  {
   "cell_type": "markdown",
   "metadata": {
    "colab_type": "text",
    "id": "Ey3fHVnGj1cu"
   },
   "source": [
    "### Adding a third LSTM layer and some Dropout regularisation"
   ]
  },
  {
   "cell_type": "code",
   "execution_count": null,
   "metadata": {
    "colab": {},
    "colab_type": "code",
    "id": "PuNi6PgFj7jO"
   },
   "outputs": [],
   "source": [
    "regressor.add(LSTM(units = 50, return_sequences = True))\n",
    "regressor.add(Dropout(0.2))"
   ]
  },
  {
   "cell_type": "markdown",
   "metadata": {
    "colab_type": "text",
    "id": "SYTrtfTmj933"
   },
   "source": [
    "### Adding a fourth LSTM layer and some Dropout regularisation"
   ]
  },
  {
   "cell_type": "code",
   "execution_count": null,
   "metadata": {
    "colab": {},
    "colab_type": "code",
    "id": "Jp4Ty8fRkBYV"
   },
   "outputs": [],
   "source": [
    "regressor.add(LSTM(units = 50))\n",
    "regressor.add(Dropout(0.2))"
   ]
  },
  {
   "cell_type": "markdown",
   "metadata": {
    "colab_type": "text",
    "id": "9ABI6rOIkHhk"
   },
   "source": [
    "### Adding the output layer"
   ]
  },
  {
   "cell_type": "code",
   "execution_count": null,
   "metadata": {
    "colab": {},
    "colab_type": "code",
    "id": "aM6R1z4WkME8"
   },
   "outputs": [],
   "source": [
    "regressor.add(Dense(1, activation='relu'))"
   ]
  },
  {
   "cell_type": "markdown",
   "metadata": {
    "colab_type": "text",
    "id": "zLx4K7uUkPSh"
   },
   "source": [
    "### Compiling the RNN"
   ]
  },
  {
   "cell_type": "code",
   "execution_count": null,
   "metadata": {
    "colab": {},
    "colab_type": "code",
    "id": "XTrhVN-tkbko"
   },
   "outputs": [],
   "source": [
    "regressor.compile(optimizer = 'adam', loss = 'mean_absolute_error')"
   ]
  },
  {
   "cell_type": "markdown",
   "metadata": {
    "colab_type": "text",
    "id": "-mPhwKGkkebi"
   },
   "source": [
    "### Fitting the RNN to the Training set"
   ]
  },
  {
   "cell_type": "code",
   "execution_count": null,
   "metadata": {
    "colab": {
     "base_uri": "https://localhost:8080/",
     "height": 1000
    },
    "colab_type": "code",
    "id": "I06Nkrz5kkb-",
    "outputId": "edc6a035-06dc-4ddd-cf58-5dd971b4d886"
   },
   "outputs": [
    {
     "name": "stdout",
     "output_type": "stream",
     "text": [
      "Epoch 1/50\n",
      "5838/5838 [==============================] - 40s 7ms/step - loss: 101.0657\n",
      "Epoch 2/50\n",
      "5838/5838 [==============================] - 39s 7ms/step - loss: 76.2966\n",
      "Epoch 3/50\n",
      "5838/5838 [==============================] - 40s 7ms/step - loss: 69.8113\n",
      "Epoch 4/50\n",
      "5838/5838 [==============================] - 40s 7ms/step - loss: 67.7285\n",
      "Epoch 5/50\n",
      "5838/5838 [==============================] - 39s 7ms/step - loss: 66.9720\n",
      "Epoch 6/50\n",
      "5838/5838 [==============================] - 40s 7ms/step - loss: 66.8105\n",
      "Epoch 7/50\n",
      "5838/5838 [==============================] - 40s 7ms/step - loss: 66.7861\n",
      "Epoch 8/50\n",
      "5838/5838 [==============================] - 43s 7ms/step - loss: 66.7446\n",
      "Epoch 9/50\n",
      "5838/5838 [==============================] - 41s 7ms/step - loss: 66.7023\n",
      "Epoch 10/50\n",
      "5838/5838 [==============================] - 40s 7ms/step - loss: 66.7190\n",
      "Epoch 11/50\n",
      "5838/5838 [==============================] - 39s 7ms/step - loss: 66.7102\n",
      "Epoch 12/50\n",
      "5838/5838 [==============================] - 40s 7ms/step - loss: 66.6774\n",
      "Epoch 13/50\n",
      "5838/5838 [==============================] - 40s 7ms/step - loss: 66.6453\n",
      "Epoch 14/50\n",
      "5838/5838 [==============================] - 39s 7ms/step - loss: 66.6846\n",
      "Epoch 15/50\n",
      "5838/5838 [==============================] - 40s 7ms/step - loss: 66.6701\n",
      "Epoch 16/50\n",
      "5838/5838 [==============================] - 40s 7ms/step - loss: 66.6571\n",
      "Epoch 17/50\n",
      "5838/5838 [==============================] - 40s 7ms/step - loss: 66.6290\n",
      "Epoch 18/50\n",
      "5838/5838 [==============================] - 39s 7ms/step - loss: 66.6440\n",
      "Epoch 19/50\n",
      "5838/5838 [==============================] - 40s 7ms/step - loss: 66.6306\n",
      "Epoch 20/50\n",
      "5838/5838 [==============================] - 39s 7ms/step - loss: 66.6079\n",
      "Epoch 21/50\n",
      "5838/5838 [==============================] - 40s 7ms/step - loss: 66.5875\n",
      "Epoch 22/50\n",
      "5838/5838 [==============================] - 40s 7ms/step - loss: 66.5512\n",
      "Epoch 23/50\n",
      "5838/5838 [==============================] - 45s 8ms/step - loss: 66.5285\n",
      "Epoch 24/50\n",
      "5838/5838 [==============================] - 41s 7ms/step - loss: 66.5254\n",
      "Epoch 25/50\n",
      "5838/5838 [==============================] - 40s 7ms/step - loss: 66.5187\n",
      "Epoch 26/50\n",
      "5838/5838 [==============================] - 40s 7ms/step - loss: 66.4986\n",
      "Epoch 27/50\n",
      "5838/5838 [==============================] - 42s 7ms/step - loss: 66.4855\n",
      "Epoch 28/50\n",
      "5838/5838 [==============================] - 43s 7ms/step - loss: 66.4541\n",
      "Epoch 29/50\n",
      "5838/5838 [==============================] - 42s 7ms/step - loss: 66.4508\n",
      "Epoch 30/50\n",
      "5838/5838 [==============================] - 42s 7ms/step - loss: 66.4597\n",
      "Epoch 31/50\n",
      "5838/5838 [==============================] - 41s 7ms/step - loss: 66.4754\n",
      "Epoch 32/50\n",
      "5838/5838 [==============================] - 42s 7ms/step - loss: 66.4224\n",
      "Epoch 33/50\n",
      "5838/5838 [==============================] - 41s 7ms/step - loss: 66.4222\n",
      "Epoch 34/50\n",
      "5838/5838 [==============================] - 41s 7ms/step - loss: 66.4469\n",
      "Epoch 35/50\n",
      "5838/5838 [==============================] - 42s 7ms/step - loss: 66.4450\n",
      "Epoch 36/50\n",
      "5838/5838 [==============================] - 42s 7ms/step - loss: 66.4336\n",
      "Epoch 37/50\n",
      "5838/5838 [==============================] - 40s 7ms/step - loss: 66.4130\n",
      "Epoch 38/50\n",
      "5838/5838 [==============================] - 44s 8ms/step - loss: 66.4124\n",
      "Epoch 39/50\n",
      "5838/5838 [==============================] - 41s 7ms/step - loss: 66.3974\n",
      "Epoch 40/50\n",
      "5838/5838 [==============================] - 42s 7ms/step - loss: 66.3995\n",
      "Epoch 41/50\n",
      "5838/5838 [==============================] - 42s 7ms/step - loss: 66.3976\n",
      "Epoch 42/50\n",
      "5838/5838 [==============================] - 42s 7ms/step - loss: 66.4141\n",
      "Epoch 43/50\n",
      "5838/5838 [==============================] - 42s 7ms/step - loss: 66.3996\n",
      "Epoch 44/50\n",
      "5838/5838 [==============================] - 41s 7ms/step - loss: 66.3665\n",
      "Epoch 45/50\n",
      "5838/5838 [==============================] - 41s 7ms/step - loss: 66.3844\n",
      "Epoch 46/50\n",
      "5838/5838 [==============================] - 42s 7ms/step - loss: 66.3713\n",
      "Epoch 47/50\n",
      "5838/5838 [==============================] - 42s 7ms/step - loss: 66.3607\n",
      "Epoch 48/50\n",
      "5838/5838 [==============================] - 42s 7ms/step - loss: 66.3530\n",
      "Epoch 49/50\n",
      "5838/5838 [==============================] - 42s 7ms/step - loss: 66.3581\n",
      "Epoch 50/50\n",
      "5838/5838 [==============================] - 40s 7ms/step - loss: 66.3485\n"
     ]
    },
    {
     "data": {
      "text/plain": [
       "<tensorflow.python.keras.callbacks.History at 0x7fd5d40f8cf8>"
      ]
     },
     "execution_count": 35,
     "metadata": {
      "tags": []
     },
     "output_type": "execute_result"
    }
   ],
   "source": [
    "regressor.fit(X_train, y_train, epochs = 50, batch_size = 100)"
   ]
  },
  {
   "cell_type": "code",
   "execution_count": null,
   "metadata": {
    "colab": {
     "base_uri": "https://localhost:8080/",
     "height": 34
    },
    "colab_type": "code",
    "id": "16uJFpmSbaUW",
    "outputId": "66afedff-6995-4605-c4d1-8518c872d3fd"
   },
   "outputs": [
    {
     "name": "stdout",
     "output_type": "stream",
     "text": [
      "(583706,)\n"
     ]
    }
   ],
   "source": [
    "print(y_train.shape)"
   ]
  },
  {
   "cell_type": "markdown",
   "metadata": {
    "colab_type": "text",
    "id": "4hRau_lIkrE8"
   },
   "source": [
    "## Part 3 - Making the predictions"
   ]
  },
  {
   "cell_type": "code",
   "execution_count": null,
   "metadata": {
    "colab": {},
    "colab_type": "code",
    "id": "emikTvUpk3Ck"
   },
   "outputs": [],
   "source": [
    "X_test = np.array(X_test)\n",
    "X_test = np.reshape(X_test, (X_test.shape[0], 1, 21))\n",
    "y_pred = regressor.predict(X_test)\n"
   ]
  },
  {
   "cell_type": "code",
   "execution_count": null,
   "metadata": {
    "colab": {
     "base_uri": "https://localhost:8080/",
     "height": 34
    },
    "colab_type": "code",
    "id": "QqFdgdv7lG8y",
    "outputId": "74f957fa-b4da-4b5b-8221-7a607cdfc64c"
   },
   "outputs": [
    {
     "name": "stdout",
     "output_type": "stream",
     "text": [
      "(145927, 1, 21)\n"
     ]
    }
   ],
   "source": [
    "print(X_test.shape)"
   ]
  },
  {
   "cell_type": "markdown",
   "metadata": {
    "colab_type": "text",
    "id": "OkGH8ETB5Ouj"
   },
   "source": [
    "## Comparing Actual value v/s Predicted value"
   ]
  },
  {
   "cell_type": "code",
   "execution_count": null,
   "metadata": {
    "colab": {
     "base_uri": "https://localhost:8080/",
     "height": 136
    },
    "colab_type": "code",
    "id": "rnX14vpB5Lrs",
    "outputId": "4bcc0f8a-9391-406f-dd00-24bcad86689b"
   },
   "outputs": [
    {
     "name": "stdout",
     "output_type": "stream",
     "text": [
      "[[184.35191345 134.31      ]\n",
      " [184.35191345 126.88      ]\n",
      " [ 62.71865082  52.497     ]\n",
      " ...\n",
      " [153.07878113 124.33      ]\n",
      " [191.5370636  161.06      ]\n",
      " [114.97932434 105.99      ]]\n"
     ]
    }
   ],
   "source": [
    "print(np.concatenate((y_pred.reshape(len(y_pred),1),y_test.reshape(len(y_test),1)),1))"
   ]
  },
  {
   "cell_type": "markdown",
   "metadata": {
    "colab_type": "text",
    "id": "iFTNs3YHk6FQ"
   },
   "source": [
    "### Model Evaluation\n",
    "\n"
   ]
  },
  {
   "cell_type": "code",
   "execution_count": null,
   "metadata": {
    "colab": {
     "base_uri": "https://localhost:8080/",
     "height": 34
    },
    "colab_type": "code",
    "id": "8OUI8U49k9tH",
    "outputId": "ce4464b7-deff-4cba-b8bf-c5253a0742de"
   },
   "outputs": [
    {
     "name": "stdout",
     "output_type": "stream",
     "text": [
      "Multiple linear regression MAE =  65.49080774804716\n"
     ]
    }
   ],
   "source": [
    "from sklearn.metrics import mean_absolute_error\n",
    "MAE = mean_absolute_error(y_test, y_pred)\n",
    "print(\"Multiple linear regression MAE = \", MAE)"
   ]
  },
  {
   "cell_type": "code",
   "execution_count": null,
   "metadata": {
    "colab": {
     "base_uri": "https://localhost:8080/",
     "height": 34
    },
    "colab_type": "code",
    "id": "Y7LSPAQk4-j1",
    "outputId": "c13d4e47-79b7-42d8-d961-34eaa1cd5c24"
   },
   "outputs": [
    {
     "data": {
      "text/plain": [
       "0.1405950080226609"
      ]
     },
     "execution_count": 43,
     "metadata": {
      "tags": []
     },
     "output_type": "execute_result"
    }
   ],
   "source": [
    "from sklearn.metrics import r2_score\n",
    "r2_score(y_test, y_pred)"
   ]
  }
 ],
 "metadata": {
  "colab": {
   "collapsed_sections": [],
   "name": "Copy of Copy of rnn.ipynb",
   "provenance": []
  },
  "kernelspec": {
   "display_name": "Python 3",
   "language": "python",
   "name": "python3"
  },
  "language_info": {
   "codemirror_mode": {
    "name": "ipython",
    "version": 3
   },
   "file_extension": ".py",
   "mimetype": "text/x-python",
   "name": "python",
   "nbconvert_exporter": "python",
   "pygments_lexer": "ipython3",
   "version": "3.7.4"
  }
 },
 "nbformat": 4,
 "nbformat_minor": 1
}
