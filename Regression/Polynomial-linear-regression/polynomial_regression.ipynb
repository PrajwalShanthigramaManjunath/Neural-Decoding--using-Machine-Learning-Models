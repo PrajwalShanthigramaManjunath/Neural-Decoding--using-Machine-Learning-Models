{
 "cells": [
  {
   "cell_type": "markdown",
   "metadata": {
    "colab_type": "text",
    "id": "vN99YjPTDena"
   },
   "source": [
    "# Polynomial Regression"
   ]
  },
  {
   "cell_type": "markdown",
   "metadata": {
    "colab_type": "text",
    "id": "ZIx_naXnDyHd"
   },
   "source": [
    "## Importing the libraries"
   ]
  },
  {
   "cell_type": "code",
   "execution_count": 1,
   "metadata": {
    "colab": {},
    "colab_type": "code",
    "id": "FjnmdyPLD2tS"
   },
   "outputs": [],
   "source": [
    "import numpy as np\n",
    "import matplotlib.pyplot as plt\n",
    "import pandas as pd"
   ]
  },
  {
   "cell_type": "markdown",
   "metadata": {
    "colab_type": "text",
    "id": "6c8YExmOD5x5"
   },
   "source": [
    "## Importing the dataset"
   ]
  },
  {
   "cell_type": "code",
   "execution_count": 2,
   "metadata": {
    "colab": {},
    "colab_type": "code",
    "id": "nQOdXhjXD_AE"
   },
   "outputs": [],
   "source": [
    "dataset = pd.read_excel('Research data.xlsx')\n",
    "X = dataset.iloc[:, :-1].values\n",
    "y = dataset.iloc[:, -1].values"
   ]
  },
  {
   "cell_type": "markdown",
   "metadata": {
    "colab_type": "text",
    "id": "Ud_1XTb28iXH"
   },
   "source": [
    "## Splitting the dataset into the Training set and Test set"
   ]
  },
  {
   "cell_type": "code",
   "execution_count": 3,
   "metadata": {
    "colab": {},
    "colab_type": "code",
    "id": "bUib_pbl8ipB"
   },
   "outputs": [
    {
     "name": "stdout",
     "output_type": "stream",
     "text": [
      "[[0 0 0 ... 0 0 0]\n",
      " [0 0 0 ... 0 0 0]\n",
      " [0 0 0 ... 0 0 1]\n",
      " ...\n",
      " [0 0 0 ... 0 0 0]\n",
      " [0 0 0 ... 0 0 0]\n",
      " [0 0 0 ... 0 0 0]]\n"
     ]
    }
   ],
   "source": [
    "from sklearn.model_selection import train_test_split\n",
    "X_train, X_test, y_train, y_test = train_test_split(X, y, test_size = 0.2, random_state = 0)\n",
    "print(X_test)"
   ]
  },
  {
   "cell_type": "markdown",
   "metadata": {
    "colab_type": "text",
    "id": "Rb5nWuSHEfBV"
   },
   "source": [
    "## Training the Polynomial Regression model on the Training set"
   ]
  },
  {
   "cell_type": "code",
   "execution_count": 4,
   "metadata": {
    "colab": {},
    "colab_type": "code",
    "id": "HYplp4pTEm0O"
   },
   "outputs": [
    {
     "data": {
      "text/plain": [
       "LinearRegression()"
      ]
     },
     "execution_count": 4,
     "metadata": {},
     "output_type": "execute_result"
    }
   ],
   "source": [
    "from sklearn.preprocessing import PolynomialFeatures\n",
    "from sklearn.linear_model import LinearRegression\n",
    "poly_reg = PolynomialFeatures(degree = 2)\n",
    "X_poly = poly_reg.fit_transform(X_train)\n",
    "regressor = LinearRegression()\n",
    "regressor.fit(X_poly, y_train)"
   ]
  },
  {
   "cell_type": "markdown",
   "metadata": {
    "colab_type": "text",
    "id": "pzF3BRps9nlk"
   },
   "source": [
    "## Predicting the Test set results"
   ]
  },
  {
   "cell_type": "code",
   "execution_count": 30,
   "metadata": {
    "colab": {},
    "colab_type": "code",
    "id": "36aFLFBK9pMk"
   },
   "outputs": [
    {
     "name": "stdout",
     "output_type": "stream",
     "text": [
      "[[184.48 134.31]\n",
      " [184.48 126.88]\n",
      " [ 66.35  52.5 ]\n",
      " [184.48 135.84]\n",
      " [184.48  75.83]\n",
      " [184.48 200.58]\n",
      " [184.48  94.08]\n",
      " [184.48 219.9 ]\n",
      " [184.48 225.  ]\n",
      " [125.47 158.39]\n",
      " [ 65.48  49.14]\n",
      " [184.48 220.37]\n",
      " [184.48 229.73]\n",
      " [120.49 124.59]\n",
      " [184.48 153.76]\n",
      " [184.48 228.3 ]\n",
      " [184.48 221.27]\n",
      " [184.48 156.89]\n",
      " [184.48 198.76]\n",
      " [184.48 234.37]\n",
      " [184.48 225.71]\n",
      " [157.69 164.82]\n",
      " [184.48  46.09]\n",
      " [157.69 115.28]\n",
      " [184.48 208.58]\n",
      " [184.48  11.98]\n",
      " [184.48 247.36]\n",
      " [288.9  354.8 ]\n",
      " [118.53 115.84]\n",
      " [184.48 270.21]\n",
      " [184.48 144.92]\n",
      " [184.48 187.48]\n",
      " [ 65.48  10.8 ]\n",
      " [ 90.93 104.09]\n",
      " [184.48 251.06]\n",
      " [184.48 219.29]\n",
      " [108.73 127.45]\n",
      " [184.48 221.24]\n",
      " [184.48 129.22]\n",
      " [184.48 154.86]\n",
      " [184.48 158.9 ]\n",
      " [184.48 203.09]\n",
      " [125.47 169.91]\n",
      " [184.48  77.81]\n",
      " [120.49 145.57]\n",
      " [184.48 284.16]\n",
      " [184.48 333.87]\n",
      " [184.48 114.94]\n",
      " [145.77 181.31]\n",
      " [184.48 320.99]\n",
      " [288.9  309.41]\n",
      " [184.48 167.91]\n",
      " [184.48  14.11]\n",
      " [198.92 215.7 ]\n",
      " [195.83 173.9 ]\n",
      " [184.48 227.09]\n",
      " [184.48 261.23]\n",
      " [184.48 254.52]\n",
      " [184.48 139.46]\n",
      " [184.48 347.17]\n",
      " [184.48 281.57]\n",
      " [ 66.35  50.47]\n",
      " [184.48 125.27]\n",
      " [184.48 356.86]\n",
      " [184.48 126.24]\n",
      " [184.48  28.98]\n",
      " [184.48 178.33]\n",
      " [184.48  92.32]\n",
      " [184.48 229.26]\n",
      " [184.48 250.72]\n",
      " [147.18 127.68]\n",
      " [184.48  70.45]\n",
      " [184.48 167.99]\n",
      " [184.48 203.79]\n",
      " [184.48 154.37]\n",
      " [184.48 200.37]\n",
      " [184.48 232.37]\n",
      " [158.64 186.61]\n",
      " [184.48 198.89]\n",
      " [184.48 285.47]\n",
      " [178.98 180.  ]\n",
      " [184.48 101.21]\n",
      " [184.48 317.68]\n",
      " [184.48  19.61]\n",
      " [184.48 219.74]\n",
      " [184.48 261.06]\n",
      " [184.48 302.01]\n",
      " [184.48 121.21]\n",
      " [184.48 308.5 ]\n",
      " [184.48 100.14]\n",
      " [184.48 159.41]\n",
      " [184.48  99.26]\n",
      " [184.48  44.64]\n",
      " [184.48 208.05]\n",
      " [184.48 217.58]\n",
      " [165.9  132.65]\n",
      " [288.9  326.47]\n",
      " [184.48 211.61]\n",
      " [184.48 242.58]\n",
      " [178.98 153.18]]\n"
     ]
    }
   ],
   "source": [
    "y_pred = regressor.predict(poly_reg.transform(X_test))\n",
    "\n",
    "list = np.concatenate((y_pred.reshape(len(y_pred),1), y_test.reshape(len(y_test),1)),1)\n",
    "import sys\n",
    "import numpy\n",
    "numpy.set_printoptions(threshold= 2000)\n",
    "\n",
    "print(list[:100])"
   ]
  },
  {
   "cell_type": "markdown",
   "metadata": {
    "colab_type": "text",
    "id": "Fz1uTlWV919-"
   },
   "source": [
    "## Evaluating the Model Performance"
   ]
  },
  {
   "cell_type": "code",
   "execution_count": 18,
   "metadata": {
    "colab": {},
    "colab_type": "code",
    "id": "xvZQ_4W893-e"
   },
   "outputs": [
    {
     "name": "stdout",
     "output_type": "stream",
     "text": [
      "[134.31 126.88  52.5  ... 124.33 161.06 105.99]\n",
      "[184.48 184.48  66.35 ... 157.69 190.91 109.94]\n"
     ]
    },
    {
     "data": {
      "text/plain": [
       "-16194123759449.082"
      ]
     },
     "execution_count": 18,
     "metadata": {},
     "output_type": "execute_result"
    }
   ],
   "source": [
    "from sklearn.metrics import r2_score\n",
    "print(y_test)\n",
    "print(y_pred)\n",
    "r2_score(y_test, y_pred)"
   ]
  },
  {
   "cell_type": "code",
   "execution_count": 19,
   "metadata": {
    "colab": {},
    "colab_type": "code",
    "id": "8SwJywz0ZDoL"
   },
   "outputs": [
    {
     "name": "stdout",
     "output_type": "stream",
     "text": [
      "Polynomial regression MAE =  1565534.4480995012\n"
     ]
    }
   ],
   "source": [
    "from sklearn.metrics import mean_absolute_error\n",
    "MAE = mean_absolute_error(y_test, y_pred)\n",
    "print(\"Polynomial regression MAE = \", MAE)"
   ]
  },
  {
   "cell_type": "code",
   "execution_count": null,
   "metadata": {},
   "outputs": [],
   "source": []
  }
 ],
 "metadata": {
  "colab": {
   "collapsed_sections": [],
   "name": "Copy of polynomial_regression.ipynb",
   "provenance": [],
   "toc_visible": true
  },
  "kernelspec": {
   "display_name": "Python 3",
   "language": "python",
   "name": "python3"
  },
  "language_info": {
   "codemirror_mode": {
    "name": "ipython",
    "version": 3
   },
   "file_extension": ".py",
   "mimetype": "text/x-python",
   "name": "python",
   "nbconvert_exporter": "python",
   "pygments_lexer": "ipython3",
   "version": "3.7.4"
  }
 },
 "nbformat": 4,
 "nbformat_minor": 1
}
